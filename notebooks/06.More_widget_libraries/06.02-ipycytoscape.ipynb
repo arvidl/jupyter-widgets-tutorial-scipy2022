{
 "cells": [
  {
   "cell_type": "markdown",
   "id": "d4490964",
   "metadata": {},
   "source": [
    "# ipycytoscape: Interactive graphs\n",
    "\n",
    "## A Jupyter - Cytoscape bridge\n",
    "\n",
    "## https://github.com/cytoscape/ipycytoscape\n",
    "\n",
    "\n",
    "A widget enabling interactive graph visualization with cytoscape.js in JupyterLab and the Jupyter notebook.\n",
    "\n",
    "- BSD-3-Clause License\n",
    "\n",
    "**Installation:**\n",
    "\n",
    "```bash\n",
    "conda install -c conda-forge ipycytoscape\n",
    "```"
   ]
  },
  {
   "cell_type": "markdown",
   "id": "a13ebf84",
   "metadata": {},
   "source": [
    "### ipycytoscape walkthrough\n",
    "\n",
    "  - cytoscape json\n",
    "    - layouts\n",
    "  - pandas\n",
    "    - styling\n",
    "  - networkx\n",
    "    - directed and undirected graphs\n",
    "    - creating custom elements\n",
    "  - neo4j\n",
    "  - interactiveness with ipywidgets"
   ]
  },
  {
   "cell_type": "code",
   "execution_count": 2,
   "id": "18a99a16",
   "metadata": {},
   "outputs": [],
   "source": [
    "import ipycytoscape as cy"
   ]
  },
  {
   "cell_type": "code",
   "execution_count": 3,
   "id": "a4e1b979",
   "metadata": {},
   "outputs": [],
   "source": [
    "cyGraph = cy.CytoscapeWidget()"
   ]
  },
  {
   "cell_type": "markdown",
   "id": "e47299e7",
   "metadata": {
    "tags": []
   },
   "source": [
    "### **cytoscape json**"
   ]
  },
  {
   "cell_type": "code",
   "execution_count": 4,
   "id": "023a2695",
   "metadata": {},
   "outputs": [],
   "source": [
    "cytoscape_json = {\n",
    "    'nodes': [\n",
    "        { 'data': { 'id': '0', 'name': 'Cytoscape', 'classes': 'node' }},\n",
    "        { 'data': { 'id': '1', 'name': 'Grid', 'classes': 'node' }},\n",
    "        { 'data': { 'id': '2', 'name': 'Cola', 'classes': 'node' }},\n",
    "        { 'data': { 'id': '3', 'name': 'Popper', 'classes': 'node' }},\n",
    "        { 'data': { 'id': '4', 'name': 'Cytoscape.js', 'classes': 'node'}}\n",
    "    ],\n",
    "    'edges': [\n",
    "        {'data': { 'source': '4', 'target': '0' }},\n",
    "        {'data': { 'source': '1', 'target': '2' }},\n",
    "        {'data': { 'source': '1', 'target': '3' }},\n",
    "        {'data': { 'source': '2', 'target': '3' }},\n",
    "        {'data': { 'source': '4', 'target': '4' }},\n",
    "        {'data': { 'source': '4', 'target': '3' }},\n",
    "    ]\n",
    "}"
   ]
  },
  {
   "cell_type": "markdown",
   "id": "192077a1",
   "metadata": {},
   "source": [
    "All of the examples in this notebook are created in loco for sake of simplicity but it's also possible to load them externaly in many different ways.\n",
    "\n",
    "For an extensive description of all the attributes available on a cytoscape graph, check the [cytoscape documentation](https://js.cytoscape.org/#cy.data)."
   ]
  },
  {
   "cell_type": "code",
   "execution_count": 5,
   "id": "2c398408",
   "metadata": {},
   "outputs": [],
   "source": [
    "cyGraph.graph.add_graph_from_json(cytoscape_json)"
   ]
  },
  {
   "cell_type": "code",
   "execution_count": 6,
   "id": "daf1cfab",
   "metadata": {},
   "outputs": [
    {
     "data": {
      "application/vnd.jupyter.widget-view+json": {
       "model_id": "4038df52b524468bab3cec5052f32457",
       "version_major": 2,
       "version_minor": 0
      },
      "text/plain": [
       "CytoscapeWidget(cytoscape_layout={'name': 'cola'}, cytoscape_style=[{'selector': 'node', 'css': {'background-c…"
      ]
     },
     "metadata": {},
     "output_type": "display_data"
    }
   ],
   "source": [
    "cyGraph"
   ]
  },
  {
   "attachments": {},
   "cell_type": "markdown",
   "id": "d157a03c",
   "metadata": {},
   "source": [
    "#### Layouts:\n",
    "\n",
    "  - cola\n",
    "  - dagre\n",
    "  - euler\n",
    "  - cose\n",
    "  - breadthfirst\n",
    "  - circle\n",
    "  - grid\n",
    "  - random\n",
    "  - null\n",
    "  \n",
    "\n",
    "<img src=\"attachment:16109f49-1053-42ab-b02d-9685e0743e6e.png\" width=\"500\"/>"
   ]
  },
  {
   "cell_type": "code",
   "execution_count": 7,
   "id": "6d54c4dd",
   "metadata": {},
   "outputs": [],
   "source": [
    "cyGraph.set_layout(name='random')"
   ]
  },
  {
   "cell_type": "code",
   "execution_count": 8,
   "id": "a2ffb4cf",
   "metadata": {},
   "outputs": [
    {
     "data": {
      "application/vnd.jupyter.widget-view+json": {
       "model_id": "4038df52b524468bab3cec5052f32457",
       "version_major": 2,
       "version_minor": 0
      },
      "text/plain": [
       "CytoscapeWidget(cytoscape_layout={'name': 'random'}, cytoscape_style=[{'selector': 'node', 'css': {'background…"
      ]
     },
     "metadata": {},
     "output_type": "display_data"
    }
   ],
   "source": [
    "cyGraph"
   ]
  },
  {
   "cell_type": "markdown",
   "id": "bcf36188",
   "metadata": {},
   "source": [
    "### **pandas**"
   ]
  },
  {
   "cell_type": "code",
   "execution_count": 9,
   "id": "ec28b464",
   "metadata": {},
   "outputs": [],
   "source": [
    "import pandas as pd"
   ]
  },
  {
   "cell_type": "code",
   "execution_count": 10,
   "id": "81fd67bc",
   "metadata": {},
   "outputs": [],
   "source": [
    "pdCy = cy.CytoscapeWidget()"
   ]
  },
  {
   "cell_type": "code",
   "execution_count": 11,
   "id": "dc3315b9",
   "metadata": {},
   "outputs": [],
   "source": [
    "robots = ['marvin','c3po','r2d2','data']\n",
    "universe = ['douglas adams','star wars','star wars','star trek']\n",
    "cooleness_lvl = ['10', '3', '10', '10']\n",
    "robotsRates = list(zip(robots, universe, cooleness_lvl))\n",
    "df = pd.DataFrame(data = robotsRates, columns=['robot', 'universe', 'cooleness_lvl'])"
   ]
  },
  {
   "cell_type": "code",
   "execution_count": 12,
   "id": "51caafac",
   "metadata": {},
   "outputs": [],
   "source": [
    "pdCy.graph.add_graph_from_df(df, ['universe'], ['robot', 'cooleness_lvl'])"
   ]
  },
  {
   "cell_type": "code",
   "execution_count": 13,
   "id": "cdbd643f",
   "metadata": {},
   "outputs": [
    {
     "data": {
      "application/vnd.jupyter.widget-view+json": {
       "model_id": "bf4c8c0251c4479387dfe5e9b09ec691",
       "version_major": 2,
       "version_minor": 0
      },
      "text/plain": [
       "CytoscapeWidget(cytoscape_layout={'name': 'cola'}, cytoscape_style=[{'selector': 'node', 'css': {'background-c…"
      ]
     },
     "metadata": {},
     "output_type": "display_data"
    }
   ],
   "source": [
    "pdCy"
   ]
  },
  {
   "cell_type": "code",
   "execution_count": 14,
   "id": "d7d651e3",
   "metadata": {},
   "outputs": [
    {
     "data": {
      "text/plain": [
       "[Node(data={'id': 'parent-0', 'name': ('douglas adams',)}, position={}),\n",
       " Node(data={'id': 'parent-1', 'name': ('star trek',)}, position={}),\n",
       " Node(data={'id': 'parent-2', 'name': ('star wars',)}, position={}),\n",
       " Node(data={'id': 0, 'parent': 'parent-0', 'name': 'robot: marvin\\ncooleness_lvl: 10\\n'}, position={}),\n",
       " Node(data={'id': 1, 'parent': 'parent-2', 'name': 'robot: c3po\\ncooleness_lvl: 3\\n'}, position={}),\n",
       " Node(data={'id': 2, 'parent': 'parent-2', 'name': 'robot: r2d2\\ncooleness_lvl: 10\\n'}, position={}),\n",
       " Node(data={'id': 3, 'parent': 'parent-1', 'name': 'robot: data\\ncooleness_lvl: 10\\n'}, position={})]"
      ]
     },
     "execution_count": 14,
     "metadata": {},
     "output_type": "execute_result"
    }
   ],
   "source": [
    "pdCy.graph.nodes"
   ]
  },
  {
   "cell_type": "code",
   "execution_count": 15,
   "id": "9eb485f9",
   "metadata": {},
   "outputs": [],
   "source": [
    "edge = cy.Edge(data={\"source\": 1, \"target\": 2})"
   ]
  },
  {
   "cell_type": "code",
   "execution_count": 16,
   "id": "6028ac19",
   "metadata": {},
   "outputs": [],
   "source": [
    "pdCy.graph.add_edge(edge)"
   ]
  },
  {
   "cell_type": "code",
   "execution_count": 17,
   "id": "48ba1da2",
   "metadata": {},
   "outputs": [],
   "source": [
    "edge = cy.Edge(data={\"source\": 'c3po', \"target\": 'r2d2'})\n",
    "pdCy.graph.add_edge(edge)"
   ]
  },
  {
   "cell_type": "code",
   "execution_count": 18,
   "id": "6e0daa80",
   "metadata": {},
   "outputs": [
    {
     "data": {
      "text/plain": [
       "[Edge(data={'source': 1, 'target': 2}),\n",
       " Edge(data={'source': 'c3po', 'target': 'r2d2'})]"
      ]
     },
     "execution_count": 18,
     "metadata": {},
     "output_type": "execute_result"
    }
   ],
   "source": [
    "pdCy.graph.edges"
   ]
  },
  {
   "cell_type": "markdown",
   "id": "9f6af16d",
   "metadata": {},
   "source": [
    "#### **styling**\n",
    "\n",
    "  - layout\n",
    "  - style\n",
    "  - tooltips"
   ]
  },
  {
   "cell_type": "code",
   "execution_count": 19,
   "id": "3bca4e59",
   "metadata": {},
   "outputs": [],
   "source": [
    "pdCy.set_style([                        \n",
    "               {\n",
    "                    'selector': '[name *= \"c3po\"]',\n",
    "                         'style': {\n",
    "                              'background-color': 'yellow',\n",
    "                    }},\n",
    "                {\n",
    "                        'selector': '[name *= \"r2d2\"]',\n",
    "                         'style': {\n",
    "                              'background-color': 'blue',\n",
    "                    }},\n",
    "              ])"
   ]
  },
  {
   "cell_type": "code",
   "execution_count": 20,
   "id": "767ff20c",
   "metadata": {},
   "outputs": [
    {
     "data": {
      "application/vnd.jupyter.widget-view+json": {
       "model_id": "bf4c8c0251c4479387dfe5e9b09ec691",
       "version_major": 2,
       "version_minor": 0
      },
      "text/plain": [
       "CytoscapeWidget(cytoscape_layout={'name': 'cola'}, cytoscape_style=[{'selector': '[name *= \"c3po\"]', 'style': …"
      ]
     },
     "metadata": {},
     "output_type": "display_data"
    }
   ],
   "source": [
    "pdCy"
   ]
  },
  {
   "cell_type": "markdown",
   "id": "c414b0d8",
   "metadata": {},
   "source": [
    "More information about cytoscape selectors are available [here](https://js.cytoscape.org/#selectors)."
   ]
  },
  {
   "cell_type": "code",
   "execution_count": 21,
   "id": "9ac7cd59",
   "metadata": {},
   "outputs": [],
   "source": [
    "pdCy.set_tooltip_source('name')"
   ]
  },
  {
   "cell_type": "markdown",
   "id": "87468fd2",
   "metadata": {},
   "source": [
    "More examples of how to set labels and tooltips [here](https://github.com/cytoscape/ipycytoscape/blob/master/examples/Text%20on%20node.ipynb) and [here](https://github.com/cytoscape/ipycytoscape/blob/master/examples/Tooltips%20example.ipynb). Or online via [binder](https://mybinder.org/v2/gh/QuantStack/ipycytoscape/stable?filepath=examples)."
   ]
  },
  {
   "cell_type": "markdown",
   "id": "e358b249",
   "metadata": {},
   "source": [
    "### **networkx**"
   ]
  },
  {
   "cell_type": "code",
   "execution_count": 22,
   "id": "2799724e",
   "metadata": {},
   "outputs": [],
   "source": [
    "import networkx as nx"
   ]
  },
  {
   "cell_type": "code",
   "execution_count": 23,
   "id": "6434d10e",
   "metadata": {},
   "outputs": [],
   "source": [
    "nxCyGraph = cy.CytoscapeWidget()\n",
    "nxGraph = nx.complete_graph(5)"
   ]
  },
  {
   "cell_type": "code",
   "execution_count": 24,
   "id": "33d470ea",
   "metadata": {},
   "outputs": [],
   "source": [
    "nxCyGraph.graph.add_graph_from_networkx(nxGraph)"
   ]
  },
  {
   "cell_type": "code",
   "execution_count": 25,
   "id": "dbf81f6b",
   "metadata": {},
   "outputs": [
    {
     "data": {
      "application/vnd.jupyter.widget-view+json": {
       "model_id": "a00e6f3f88ce44fc96d841395fac7555",
       "version_major": 2,
       "version_minor": 0
      },
      "text/plain": [
       "CytoscapeWidget(cytoscape_layout={'name': 'cola'}, cytoscape_style=[{'selector': 'node', 'css': {'background-c…"
      ]
     },
     "metadata": {},
     "output_type": "display_data"
    }
   ],
   "source": [
    "nxCyGraph"
   ]
  },
  {
   "cell_type": "markdown",
   "id": "ddba9909",
   "metadata": {},
   "source": [
    "#### **directed and undirected graphs**"
   ]
  },
  {
   "cell_type": "code",
   "execution_count": 26,
   "id": "f19617e6",
   "metadata": {},
   "outputs": [],
   "source": [
    "directCyGraph = cy.CytoscapeWidget()\n",
    "directNxGraph = nx.complete_graph(4)\n",
    "directCyGraph.graph.add_graph_from_networkx(directNxGraph, directed=True)"
   ]
  },
  {
   "cell_type": "code",
   "execution_count": 27,
   "id": "7c832e6e",
   "metadata": {},
   "outputs": [
    {
     "data": {
      "application/vnd.jupyter.widget-view+json": {
       "model_id": "914a0f3317824d4485ffd5867fbe019e",
       "version_major": 2,
       "version_minor": 0
      },
      "text/plain": [
       "CytoscapeWidget(cytoscape_layout={'name': 'cola'}, cytoscape_style=[{'selector': 'node', 'css': {'background-c…"
      ]
     },
     "metadata": {},
     "output_type": "display_data"
    }
   ],
   "source": [
    "directCyGraph"
   ]
  },
  {
   "cell_type": "code",
   "execution_count": 28,
   "id": "b593cb8c",
   "metadata": {},
   "outputs": [],
   "source": [
    "from random import random"
   ]
  },
  {
   "cell_type": "code",
   "execution_count": 29,
   "id": "6f136286",
   "metadata": {},
   "outputs": [
    {
     "data": {
      "application/vnd.jupyter.widget-view+json": {
       "model_id": "94bd1825c8cb43b58c927cc9657391f7",
       "version_major": 2,
       "version_minor": 0
      },
      "text/plain": [
       "CytoscapeWidget(cytoscape_layout={'name': 'cola'}, cytoscape_style=[{'selector': 'node', 'css': {'background-c…"
      ]
     },
     "metadata": {},
     "output_type": "display_data"
    }
   ],
   "source": [
    "mixedNxGraph = nx.complete_graph(5)\n",
    "for s, t, data in mixedNxGraph.edges(data=True):\n",
    "    if random() > .5:\n",
    "        mixedNxGraph[s][t]['classes'] = 'directed'\n",
    "\n",
    "mixedGraph = cy.CytoscapeWidget()\n",
    "mixedGraph.graph.add_graph_from_networkx(mixedNxGraph)\n",
    "mixedGraph"
   ]
  },
  {
   "cell_type": "markdown",
   "id": "d5c5066e",
   "metadata": {},
   "source": [
    "#### **Creating custom elements**\n",
    "Custom Nodes and Edges can be created for any kinds of graphs, meaning it's not only restricted to networkx objects. You just have to use the ipycytoscape API for that. We see an example of the API's use on the Pandas example."
   ]
  },
  {
   "cell_type": "code",
   "execution_count": 30,
   "id": "b65ea933",
   "metadata": {},
   "outputs": [],
   "source": [
    "class CustomNode(cy.Node):\n",
    "    def __init__(self, name, classes = ''):\n",
    "        super().__init__()\n",
    "        self.data['id'] = name\n",
    "        self.classes = classes"
   ]
  },
  {
   "cell_type": "code",
   "execution_count": 31,
   "id": "d94b4bf5",
   "metadata": {},
   "outputs": [],
   "source": [
    "n1 = CustomNode(\"node 1\", classes = 'first')\n",
    "n2 = CustomNode(\"node 2\", classes = 'second')\n",
    "        \n",
    "G = nx.Graph()\n",
    "\n",
    "G.add_node(n1)\n",
    "G.add_node(n2)\n",
    "\n",
    "G.add_edge(n1, n2)"
   ]
  },
  {
   "cell_type": "code",
   "execution_count": 32,
   "id": "5ada71b3",
   "metadata": {},
   "outputs": [
    {
     "data": {
      "text/plain": [
       "[CustomNode(classes='first', data={'id': 'node 1'}, position={}),\n",
       " CustomNode(classes='second', data={'id': 'node 2'}, position={})]"
      ]
     },
     "execution_count": 32,
     "metadata": {},
     "output_type": "execute_result"
    }
   ],
   "source": [
    "customInheritedGraph = cy.CytoscapeWidget()\n",
    "customInheritedGraph.graph.add_graph_from_networkx(G)\n",
    "customInheritedGraph.graph.nodes"
   ]
  },
  {
   "cell_type": "markdown",
   "id": "a4b71c67",
   "metadata": {},
   "source": [
    "### **Neo4j**\n",
    "\n",
    "Examples on how to run ipycytoscape with Neo4j can be found [here](https://github.com/sbl-sdsc/neo4j-ipycytoscape) binder and a notebook [here](https://binder.pangeo.io/v2/gh/sbl-sdsc/neo4j-ipycytoscape/master)."
   ]
  },
  {
   "cell_type": "code",
   "execution_count": 33,
   "id": "c5093a38",
   "metadata": {},
   "outputs": [],
   "source": [
    "#from py2neo import Graph\n",
    "#cy.add_graph_from_neo4j(neo4j_graph)"
   ]
  },
  {
   "cell_type": "markdown",
   "id": "871a2341",
   "metadata": {},
   "source": [
    "### **interactvity and interoperability with ipywidgets**\n",
    "\n",
    "  - javascript events\n",
    "      - DOM (elements, events)\n",
    "  - widgets interaction"
   ]
  },
  {
   "cell_type": "code",
   "execution_count": 34,
   "id": "a3c06c76",
   "metadata": {},
   "outputs": [],
   "source": [
    "import ipywidgets as widgets"
   ]
  },
  {
   "cell_type": "code",
   "execution_count": 35,
   "id": "a24cc3a3",
   "metadata": {},
   "outputs": [
    {
     "data": {
      "application/vnd.jupyter.widget-view+json": {
       "model_id": "4038df52b524468bab3cec5052f32457",
       "version_major": 2,
       "version_minor": 0
      },
      "text/plain": [
       "CytoscapeWidget(cytoscape_layout={'name': 'random'}, cytoscape_style=[{'selector': 'node', 'css': {'background…"
      ]
     },
     "metadata": {},
     "output_type": "display_data"
    }
   ],
   "source": [
    "cyGraph"
   ]
  },
  {
   "cell_type": "code",
   "execution_count": 36,
   "id": "62cdf375",
   "metadata": {},
   "outputs": [],
   "source": [
    "cyGraph.set_style([{\n",
    "                      \"selector\": \"edge.highlighted\",\n",
    "                      \"css\": {\n",
    "                        \"line-color\": \"red\"\n",
    "                      }\n",
    "                    }])"
   ]
  },
  {
   "cell_type": "code",
   "execution_count": 37,
   "id": "064cd743",
   "metadata": {},
   "outputs": [
    {
     "data": {
      "application/vnd.jupyter.widget-view+json": {
       "model_id": "1b31f3b7e18f4dc194907ea93ef96d88",
       "version_major": 2,
       "version_minor": 0
      },
      "text/plain": [
       "Button(description='red edges', style=ButtonStyle())"
      ]
     },
     "metadata": {},
     "output_type": "display_data"
    }
   ],
   "source": [
    "btn = widgets.Button(description = \"red edges\", disabled = False)\n",
    "\n",
    "def btn_callback(b):\n",
    "  for edge in cyGraph.graph.edges:\n",
    "    edge.classes = \" highlighted\"\n",
    "\n",
    "btn.on_click(callback = btn_callback)\n",
    "display(btn)"
   ]
  },
  {
   "cell_type": "code",
   "execution_count": 38,
   "id": "8f84bd01",
   "metadata": {},
   "outputs": [],
   "source": [
    "def paint_blue(event):\n",
    "    auxNode = cyGraph.graph.nodes[int(event['data']['id'])]\n",
    "    auxNode.classes += ' blue'\n",
    "cyGraph.on('node', 'click', paint_blue)"
   ]
  },
  {
   "cell_type": "code",
   "execution_count": 39,
   "id": "f35a5eac",
   "metadata": {},
   "outputs": [],
   "source": [
    "cyGraph.set_style([{\n",
    "                      \"selector\": \"edge.highlighted\",\n",
    "                      \"css\": {\n",
    "                        \"line-color\": \"red\"\n",
    "                      }\n",
    "                    },\n",
    "                    {\n",
    "                      \"selector\": \"node.blue\",\n",
    "                      \"css\": {\n",
    "                        \"background-color\": \"blue\"\n",
    "                      },\n",
    "                    }])"
   ]
  },
  {
   "cell_type": "code",
   "execution_count": 40,
   "id": "7dfb6c2b",
   "metadata": {},
   "outputs": [
    {
     "data": {
      "application/vnd.jupyter.widget-view+json": {
       "model_id": "4038df52b524468bab3cec5052f32457",
       "version_major": 2,
       "version_minor": 0
      },
      "text/plain": [
       "CytoscapeWidget(cytoscape_layout={'name': 'random'}, cytoscape_style=[{'selector': 'edge.highlighted', 'css': …"
      ]
     },
     "metadata": {},
     "output_type": "display_data"
    }
   ],
   "source": [
    "cyGraph"
   ]
  },
  {
   "cell_type": "markdown",
   "id": "adcfb530",
   "metadata": {},
   "source": [
    "**List of events**\n",
    "\n",
    "These events can be applied to either `nodes` or `edges` objects:\n",
    "\n",
    "* **mousedown :** when the mouse button is pressed\n",
    "* **mouseup :** when the mouse button is released\n",
    "* **click :** after mousedown then mouseup\n",
    "* **mouseover :** when the cursor is put on top of the target\n",
    "* **mouseout :** when the cursor is moved off of the target\n",
    "* **mousemove :** when the cursor is moved somewhere on top of the target\n",
    "* **touchstart :** when one or more fingers starts to touch the screen\n",
    "* **touchmove :** when one or more fingers are moved on the screen\n",
    "* **touchend :** when one or more fingers are removed from the screen\n",
    "* **tapstart :** normalised tap start event (either mousedown or touchstart)\n",
    "* **vmousedown :** alias for 'tapstart'\n",
    "* **tapdrag :** normalised move event (either touchmove or mousemove)\n",
    "* **vmousemove :** alias for 'tapdrag'\n",
    "* **tapdragover :** normalised over element event (either touchmove or mousemove/mouseover)\n",
    "* **tapdragout :** normalised off of element event (either touchmove or mousemove/mouseout)\n",
    "* **tapend :** normalised tap end event (either mouseup or touchend)\n",
    "* **vmouseup :** alias for 'tapend'\n",
    "* **tap :** normalised tap event (either click, or touchstart followed by touchend without touchmove)\n",
    "* **vclick :** alias for 'tap'\n",
    "* **taphold :** normalised tap hold event\n",
    "* **cxttapstart :** normalised right-click mousedown or two-finger tapstart\n",
    "* **cxttapend :** normalised right-click mouseup or two-finger tapend\n",
    "* **cxttap :** normalised right-click or two-finger tap\n",
    "* **cxtdrag :** normalised mousemove or two-finger drag after cxttapstart but before cxttapend\n",
    "* **cxtdragover :** when going over a node via cxtdrag\n",
    "* **cxtdragout :** when going off a node via cxtdrag\n",
    "* **boxstart :** when starting box selection\n",
    "* **boxend :** when ending box selection\n",
    "* **boxselect :** triggered on elements when selected by box selection\n",
    "* **box :** triggered on elements when inside the box on boxend"
   ]
  },
  {
   "cell_type": "markdown",
   "id": "e3bcd7e6",
   "metadata": {},
   "source": [
    "# Exercise"
   ]
  },
  {
   "cell_type": "markdown",
   "id": "bd1498ae",
   "metadata": {},
   "source": [
    "### 1) Create another instance of the cyGraph object"
   ]
  },
  {
   "cell_type": "code",
   "execution_count": null,
   "id": "a2988291",
   "metadata": {},
   "outputs": [],
   "source": []
  },
  {
   "cell_type": "markdown",
   "id": "31998da7",
   "metadata": {},
   "source": [
    "### 2) Create a button widget, that when clicked, paints the graph's nodes yellow"
   ]
  },
  {
   "cell_type": "code",
   "execution_count": null,
   "id": "6e1cd39a",
   "metadata": {},
   "outputs": [],
   "source": []
  }
 ],
 "metadata": {
  "kernelspec": {
   "display_name": "Python 3 (ipykernel)",
   "language": "python",
   "name": "python3"
  },
  "language_info": {
   "codemirror_mode": {
    "name": "ipython",
    "version": 3
   },
   "file_extension": ".py",
   "mimetype": "text/x-python",
   "name": "python",
   "nbconvert_exporter": "python",
   "pygments_lexer": "ipython3",
   "version": "3.10.6"
  }
 },
 "nbformat": 4,
 "nbformat_minor": 5
}
