{
 "cells": [
  {
   "cell_type": "markdown",
   "id": "413439cf-360f-435b-acfe-4b1cc9042773",
   "metadata": {},
   "source": [
    "# Refactoring the class-based implementation"
   ]
  },
  {
   "cell_type": "code",
   "execution_count": 1,
   "id": "36cd43c4-9df2-40cf-a4f0-66e660af7035",
   "metadata": {},
   "outputs": [],
   "source": [
    "# Generating data\n",
    "import numpy as np\n",
    "import pandas as pd\n",
    "\n",
    "np.random.seed(0)\n",
    "p_t, n = 100, 260\n",
    "stock_df = pd.DataFrame({f'Stock {i}': p_t + np.round(np.random.standard_normal(n).cumsum(), 2) for i in range(10)})"
   ]
  },
  {
   "cell_type": "code",
   "execution_count": 2,
   "id": "bde0b4dd-96bf-441c-a7b1-3e4ab37cd7c5",
   "metadata": {},
   "outputs": [],
   "source": [
    "from my_application import MyApplication"
   ]
  },
  {
   "cell_type": "code",
   "execution_count": 3,
   "id": "e04c0045-f815-4c7b-a0a4-dee9c004275a",
   "metadata": {},
   "outputs": [
    {
     "data": {
      "application/vnd.jupyter.widget-view+json": {
       "model_id": "d199771975bb481f8d0d8cf65963aef8",
       "version_major": 2,
       "version_minor": 0
      },
      "text/plain": [
       "VBox(children=(HTML(value=\"<h1 style='color: salmon'>My complex application</h1><h2>Select a column to plot it…"
      ]
     },
     "metadata": {},
     "output_type": "display_data"
    }
   ],
   "source": [
    "app = MyApplication(stock_df)"
   ]
  },
  {
   "cell_type": "code",
   "execution_count": null,
   "id": "784f45be",
   "metadata": {},
   "outputs": [],
   "source": []
  }
 ],
 "metadata": {
  "kernelspec": {
   "display_name": "Python 3 (ipykernel)",
   "language": "python",
   "name": "python3"
  },
  "language_info": {
   "codemirror_mode": {
    "name": "ipython",
    "version": 3
   },
   "file_extension": ".py",
   "mimetype": "text/x-python",
   "name": "python",
   "nbconvert_exporter": "python",
   "pygments_lexer": "ipython3",
   "version": "3.10.6"
  }
 },
 "nbformat": 4,
 "nbformat_minor": 5
}
